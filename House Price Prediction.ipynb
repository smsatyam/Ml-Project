{
 "cells": [
  {
   "cell_type": "code",
   "execution_count": 1,
   "id": "4de6df4a",
   "metadata": {},
   "outputs": [],
   "source": [
    "#import neccessery library\n",
    "#house price prediction\n",
    "import pandas as pd\n",
    "import numpy as np\n",
    "import matplotlib.pyplot as plt\n",
    "import seaborn as sns\n",
    "from sklearn.preprocessing import StandardScaler\n",
    "import pickle\n",
    "\n",
    "%matplotlib inline\n",
    "import warnings\n",
    "warnings.filterwarnings(\"ignore\")"
   ]
  },
  {
   "cell_type": "code",
   "execution_count": 2,
   "id": "ca34dd1a",
   "metadata": {},
   "outputs": [],
   "source": [
    "#loading the dataset\n",
    "train=pd.read_csv(\"C://Users/Satyam Meena/Desktop/Data Science/Data/House Price Prediction/train (2).csv\")\n",
    "test=pd.read_csv(\"C://Users/Satyam Meena/Desktop/Data Science/Data/House Price Prediction/test (1).csv\")"
   ]
  },
  {
   "cell_type": "code",
   "execution_count": 4,
   "id": "8432843c",
   "metadata": {},
   "outputs": [],
   "source": [
    "test['SalePrice']=-1"
   ]
  },
  {
   "cell_type": "code",
   "execution_count": 5,
   "id": "090ef988",
   "metadata": {},
   "outputs": [],
   "source": [
    "data=pd.concat([train,test])"
   ]
  },
  {
   "cell_type": "code",
   "execution_count": null,
   "id": "ef187f27",
   "metadata": {},
   "outputs": [],
   "source": [
    "data.info()"
   ]
  },
  {
   "cell_type": "code",
   "execution_count": 6,
   "id": "1530b629",
   "metadata": {},
   "outputs": [],
   "source": [
    "data=data.drop(columns=['PoolQC','Fence','MiscFeature','Alley','FireplaceQu','Id'],axis=1)"
   ]
  },
  {
   "cell_type": "code",
   "execution_count": 7,
   "id": "3bf93e92",
   "metadata": {},
   "outputs": [],
   "source": [
    "data['LotFrontage']=data['LotFrontage'].fillna(data['LotFrontage'].mean())\n",
    "data['GarageQual']=data['GarageQual'].fillna(data['GarageQual'].mode()[0])\n",
    "data['GarageCond']=data['GarageCond'].fillna(data['GarageCond'].mode()[0])\n",
    "data['GarageType']=data['GarageType'].fillna(data['GarageType'].mode()[0])\n",
    "data['GarageYrBlt']=data['GarageYrBlt'].fillna(data['GarageYrBlt'].mode()[0])\n",
    "data['GarageFinish']=data['GarageFinish'].fillna(data['GarageFinish'].mode()[0])\n",
    "data['Electrical']=data['Electrical'].fillna(data['Electrical'].mode()[0])\n",
    "data['BsmtFinType2']=data['BsmtFinType2'].fillna(data['BsmtFinType2'].mode()[0])\n",
    "data['MasVnrType']=data['MasVnrType'].fillna(data['MasVnrType'].mode()[0])\n",
    "data['MasVnrArea']=data['MasVnrArea'].fillna(data['MasVnrArea'].mean())\n",
    "data['BsmtQual']=data['BsmtQual'].fillna(data['BsmtQual'].mode()[0])\n",
    "data['BsmtCond']=data['BsmtCond'].fillna(data['BsmtCond'].mode()[0])\n",
    "data['BsmtExposure']=data['BsmtExposure'].fillna(data['BsmtExposure'].mode()[0])\n",
    "data['BsmtFinType1']=data['BsmtFinType1'].fillna(data['BsmtFinType1'].mode()[0])\n"
   ]
  },
  {
   "cell_type": "code",
   "execution_count": 8,
   "id": "62193477",
   "metadata": {},
   "outputs": [],
   "source": [
    "data['SaleType']=data['SaleType'].fillna(data['SaleType'].mode()[0])\n",
    "data['GarageArea']=data['GarageArea'].fillna(data['GarageArea'].mean())\n",
    "data['GarageCars']=data['GarageCars'].fillna(data['GarageCars'].mean())\n",
    "data['Functional']=data['Functional'].fillna(data['Functional'].mode()[0])\n",
    "data['KitchenQual']=data['KitchenQual'].fillna(data['KitchenQual'].mode()[0])\n",
    "data['BsmtFullBath']=data['BsmtFullBath'].fillna(data['BsmtFullBath'].mean())\n",
    "data['BsmtHalfBath']=data['BsmtHalfBath'].fillna(data['BsmtHalfBath'].mean())\n",
    "data['MSZoning']=data['MSZoning'].fillna(data['MSZoning'].mode()[0])\n",
    "data['Utilities']=data['Utilities'].fillna(data['Utilities'].mode()[0])\n",
    "data['Exterior1st']=data['Exterior1st'].fillna(data['Exterior1st'].mode()[0])\n",
    "data['Exterior2nd']=data['Exterior2nd'].fillna(data['Exterior2nd'].mode()[0])\n",
    "data['BsmtFinSF1']=data['BsmtFinSF1'].fillna(data['BsmtFinSF1'].mean())\n",
    "data['BsmtFinSF2']=data['BsmtFinSF2'].fillna(data['BsmtFinSF2'].mean())\n",
    "data['BsmtUnfSF']=data['BsmtUnfSF'].fillna(data['BsmtUnfSF'].mean())\n",
    "data['TotalBsmtSF']=data['TotalBsmtSF'].fillna(data['TotalBsmtSF'].mean())"
   ]
  },
  {
   "cell_type": "code",
   "execution_count": 9,
   "id": "641bb0f1",
   "metadata": {},
   "outputs": [
    {
     "name": "stdout",
     "output_type": "stream",
     "text": [
      "<class 'pandas.core.frame.DataFrame'>\n",
      "Int64Index: 2919 entries, 0 to 1458\n",
      "Data columns (total 75 columns):\n",
      " #   Column         Non-Null Count  Dtype  \n",
      "---  ------         --------------  -----  \n",
      " 0   MSSubClass     2919 non-null   int64  \n",
      " 1   MSZoning       2919 non-null   object \n",
      " 2   LotFrontage    2919 non-null   float64\n",
      " 3   LotArea        2919 non-null   int64  \n",
      " 4   Street         2919 non-null   object \n",
      " 5   LotShape       2919 non-null   object \n",
      " 6   LandContour    2919 non-null   object \n",
      " 7   Utilities      2919 non-null   object \n",
      " 8   LotConfig      2919 non-null   object \n",
      " 9   LandSlope      2919 non-null   object \n",
      " 10  Neighborhood   2919 non-null   object \n",
      " 11  Condition1     2919 non-null   object \n",
      " 12  Condition2     2919 non-null   object \n",
      " 13  BldgType       2919 non-null   object \n",
      " 14  HouseStyle     2919 non-null   object \n",
      " 15  OverallQual    2919 non-null   int64  \n",
      " 16  OverallCond    2919 non-null   int64  \n",
      " 17  YearBuilt      2919 non-null   int64  \n",
      " 18  YearRemodAdd   2919 non-null   int64  \n",
      " 19  RoofStyle      2919 non-null   object \n",
      " 20  RoofMatl       2919 non-null   object \n",
      " 21  Exterior1st    2919 non-null   object \n",
      " 22  Exterior2nd    2919 non-null   object \n",
      " 23  MasVnrType     2919 non-null   object \n",
      " 24  MasVnrArea     2919 non-null   float64\n",
      " 25  ExterQual      2919 non-null   object \n",
      " 26  ExterCond      2919 non-null   object \n",
      " 27  Foundation     2919 non-null   object \n",
      " 28  BsmtQual       2919 non-null   object \n",
      " 29  BsmtCond       2919 non-null   object \n",
      " 30  BsmtExposure   2919 non-null   object \n",
      " 31  BsmtFinType1   2919 non-null   object \n",
      " 32  BsmtFinSF1     2919 non-null   float64\n",
      " 33  BsmtFinType2   2919 non-null   object \n",
      " 34  BsmtFinSF2     2919 non-null   float64\n",
      " 35  BsmtUnfSF      2919 non-null   float64\n",
      " 36  TotalBsmtSF    2919 non-null   float64\n",
      " 37  Heating        2919 non-null   object \n",
      " 38  HeatingQC      2919 non-null   object \n",
      " 39  CentralAir     2919 non-null   object \n",
      " 40  Electrical     2919 non-null   object \n",
      " 41  1stFlrSF       2919 non-null   int64  \n",
      " 42  2ndFlrSF       2919 non-null   int64  \n",
      " 43  LowQualFinSF   2919 non-null   int64  \n",
      " 44  GrLivArea      2919 non-null   int64  \n",
      " 45  BsmtFullBath   2919 non-null   float64\n",
      " 46  BsmtHalfBath   2919 non-null   float64\n",
      " 47  FullBath       2919 non-null   int64  \n",
      " 48  HalfBath       2919 non-null   int64  \n",
      " 49  BedroomAbvGr   2919 non-null   int64  \n",
      " 50  KitchenAbvGr   2919 non-null   int64  \n",
      " 51  KitchenQual    2919 non-null   object \n",
      " 52  TotRmsAbvGrd   2919 non-null   int64  \n",
      " 53  Functional     2919 non-null   object \n",
      " 54  Fireplaces     2919 non-null   int64  \n",
      " 55  GarageType     2919 non-null   object \n",
      " 56  GarageYrBlt    2919 non-null   float64\n",
      " 57  GarageFinish   2919 non-null   object \n",
      " 58  GarageCars     2919 non-null   float64\n",
      " 59  GarageArea     2919 non-null   float64\n",
      " 60  GarageQual     2919 non-null   object \n",
      " 61  GarageCond     2919 non-null   object \n",
      " 62  PavedDrive     2919 non-null   object \n",
      " 63  WoodDeckSF     2919 non-null   int64  \n",
      " 64  OpenPorchSF    2919 non-null   int64  \n",
      " 65  EnclosedPorch  2919 non-null   int64  \n",
      " 66  3SsnPorch      2919 non-null   int64  \n",
      " 67  ScreenPorch    2919 non-null   int64  \n",
      " 68  PoolArea       2919 non-null   int64  \n",
      " 69  MiscVal        2919 non-null   int64  \n",
      " 70  MoSold         2919 non-null   int64  \n",
      " 71  YrSold         2919 non-null   int64  \n",
      " 72  SaleType       2919 non-null   object \n",
      " 73  SaleCondition  2919 non-null   object \n",
      " 74  SalePrice      2919 non-null   int64  \n",
      "dtypes: float64(11), int64(26), object(38)\n",
      "memory usage: 1.7+ MB\n"
     ]
    }
   ],
   "source": [
    "data.info()"
   ]
  },
  {
   "cell_type": "code",
   "execution_count": 10,
   "id": "e5743fd3",
   "metadata": {},
   "outputs": [
    {
     "name": "stdout",
     "output_type": "stream",
     "text": [
      "38 columns were label encoded.\n"
     ]
    }
   ],
   "source": [
    "#lets do Lable enconding coding to make more features \n",
    "from sklearn.preprocessing import LabelEncoder\n",
    "le = LabelEncoder()\n",
    "le_count = 0\n",
    "\n",
    "# Iterate through the columns\n",
    "for col in data:\n",
    "    if data[col].dtype == 'object':\n",
    "        # If 2 or fewer unique categories\n",
    "        if len(list(data[col].unique())) <= 25:\n",
    "            # Train on the training data\n",
    "            le.fit(data[col])\n",
    "            # Transform both training and testing data\n",
    "            data[col] = le.transform(data[col])\n",
    "            \n",
    "            \n",
    "            # Keep track of how many columns were label encoded\n",
    "            le_count += 1\n",
    "            \n",
    "print('%d columns were label encoded.' % le_count)"
   ]
  },
  {
   "cell_type": "code",
   "execution_count": 11,
   "id": "51d815ff",
   "metadata": {},
   "outputs": [
    {
     "data": {
      "text/html": [
       "<div>\n",
       "<style scoped>\n",
       "    .dataframe tbody tr th:only-of-type {\n",
       "        vertical-align: middle;\n",
       "    }\n",
       "\n",
       "    .dataframe tbody tr th {\n",
       "        vertical-align: top;\n",
       "    }\n",
       "\n",
       "    .dataframe thead th {\n",
       "        text-align: right;\n",
       "    }\n",
       "</style>\n",
       "<table border=\"1\" class=\"dataframe\">\n",
       "  <thead>\n",
       "    <tr style=\"text-align: right;\">\n",
       "      <th></th>\n",
       "      <th>Col_name</th>\n",
       "      <th>Value</th>\n",
       "    </tr>\n",
       "  </thead>\n",
       "  <tbody>\n",
       "  </tbody>\n",
       "</table>\n",
       "</div>"
      ],
      "text/plain": [
       "Empty DataFrame\n",
       "Columns: [Col_name, Value]\n",
       "Index: []"
      ]
     },
     "execution_count": 11,
     "metadata": {},
     "output_type": "execute_result"
    }
   ],
   "source": [
    "colum_name =[]\n",
    "unique_value=[]\n",
    "# Iterate through the columns\n",
    "for col in data:\n",
    "    if data[col].dtype == 'object':\n",
    "        # If 2 or fewer unique categories\n",
    "        colum_name.append(str(col)) \n",
    "        unique_value.append(data[col].nunique())\n",
    "table= pd.DataFrame()\n",
    "table['Col_name'] = colum_name\n",
    "table['Value']= unique_value\n",
    "            \n",
    "table=table.sort_values('Value',ascending=False)\n",
    "table"
   ]
  },
  {
   "cell_type": "code",
   "execution_count": 12,
   "id": "95ba26cb",
   "metadata": {},
   "outputs": [
    {
     "data": {
      "text/plain": [
       "((1460, 75), (1459, 75))"
      ]
     },
     "execution_count": 12,
     "metadata": {},
     "output_type": "execute_result"
    }
   ],
   "source": [
    "#Divide into test and train:\n",
    "train = data.loc[data['SalePrice']!=-1]\n",
    "test = data.loc[data['SalePrice']==-1]\n",
    "train.shape,test.shape"
   ]
  },
  {
   "cell_type": "code",
   "execution_count": null,
   "id": "9c42ab66",
   "metadata": {},
   "outputs": [],
   "source": [
    "\n",
    "#Correlation\n",
    "#Checking Correlation / Multivariate Analysis \n",
    "corr=train.corr()\n",
    "plt.figure(figsize=[42,22])\n",
    "sns.heatmap(corr,annot=True)\n",
    "plt.show()"
   ]
  },
  {
   "cell_type": "code",
   "execution_count": null,
   "id": "ed6cd1b9",
   "metadata": {},
   "outputs": [],
   "source": [
    "#Checking Correlation with respect to target column\n",
    "corr['SalePrice'].sort_values()"
   ]
  },
  {
   "cell_type": "code",
   "execution_count": 14,
   "id": "0f74f0ee",
   "metadata": {},
   "outputs": [],
   "source": [
    "x=train.drop('SalePrice',axis=1)\n",
    "y=train.SalePrice"
   ]
  },
  {
   "cell_type": "code",
   "execution_count": 15,
   "id": "f581a18f",
   "metadata": {},
   "outputs": [],
   "source": [
    "from sklearn.feature_selection import SelectKBest,f_regression "
   ]
  },
  {
   "cell_type": "code",
   "execution_count": 16,
   "id": "1abdeaae",
   "metadata": {},
   "outputs": [],
   "source": [
    "scaler=StandardScaler()\n",
    "x_scaled=scaler.fit_transform(x)"
   ]
  },
  {
   "cell_type": "markdown",
   "id": "89c32a47",
   "metadata": {},
   "source": [
    "# Finding the multicollinerity\n",
    "from statsmodels.stats.outliers_influence import variance_inflation_factor\n",
    "vif=pd.DataFrame()\n",
    "vif[\"vif\"]=[variance_inflation_factor(x_scaled,i) for i in range(x_scaled.shape[1])]\n",
    "vif[\"Features\"]=x.columns\n",
    "\n",
    "#let's check the values\n",
    "vif"
   ]
  },
  {
   "cell_type": "markdown",
   "id": "db952c68",
   "metadata": {},
   "source": [
    "# Select K Best Features"
   ]
  },
  {
   "cell_type": "code",
   "execution_count": 19,
   "id": "bf9fd5fe",
   "metadata": {},
   "outputs": [
    {
     "name": "stdout",
     "output_type": "stream",
     "text": [
      "    Feature_Name        Score\n",
      "15   OverallQual  2436.770591\n",
      "44     GrLivArea  1470.585010\n",
      "58    GarageCars  1013.705666\n",
      "25     ExterQual   994.979678\n",
      "59    GarageArea   926.951287\n",
      "28      BsmtQual   901.052816\n",
      "36   TotalBsmtSF   880.341282\n",
      "41      1stFlrSF   845.524488\n",
      "51   KitchenQual   775.262307\n",
      "47      FullBath   668.430296\n",
      "57  GarageFinish   591.563732\n",
      "52  TotRmsAbvGrd   580.762801\n",
      "17     YearBuilt   548.665821\n",
      "18  YearRemodAdd   504.714855\n",
      "24    MasVnrArea   425.293347\n",
      "54    Fireplaces   406.503866\n",
      "38     HeatingQC   278.007890\n",
      "56   GarageYrBlt   274.059167\n",
      "32    BsmtFinSF1   255.923517\n",
      "27    Foundation   249.840256\n",
      "2    LotFrontage   184.085225\n",
      "63    WoodDeckSF   171.494673\n",
      "42      2ndFlrSF   165.561151\n",
      "64   OpenPorchSF   161.577391\n",
      "55    GarageType   146.432920\n"
     ]
    }
   ],
   "source": [
    "best_features=SelectKBest(score_func=f_regression,k=25)\n",
    "fit=best_features.fit(x_scaled,y)\n",
    "df_scores=pd.DataFrame(fit.scores_)\n",
    "df_columns=pd.DataFrame(x.columns)\n",
    "\n",
    "# concatenate dataframes\n",
    "feature_scores=pd.concat([df_columns,df_scores],axis=1)\n",
    "feature_scores.columns=['Feature_Name','Score']\n",
    "print(feature_scores.nlargest(25,'Score'))"
   ]
  },
  {
   "cell_type": "code",
   "execution_count": 20,
   "id": "36014dce",
   "metadata": {},
   "outputs": [],
   "source": [
    " new_x=train[['OverallQual','GrLivArea','GarageCars','ExterQual','GarageArea','BsmtQual','TotalBsmtSF','1stFlrSF',\n",
    "              'KitchenQual','FullBath','GarageFinish','TotRmsAbvGrd','YearBuilt','YearRemodAdd','MasVnrArea','Fireplaces',\n",
    "              'HeatingQC','GarageYrBlt','BsmtFinSF1','Foundation','LotFrontage','WoodDeckSF','2ndFlrSF','OpenPorchSF','GarageType'\n",
    "             ]]"
   ]
  },
  {
   "cell_type": "code",
   "execution_count": 39,
   "id": "1e0667b3",
   "metadata": {},
   "outputs": [],
   "source": [
    "test=test[['OverallQual','GrLivArea','GarageCars','ExterQual','GarageArea','BsmtQual','TotalBsmtSF','1stFlrSF',\n",
    "              'KitchenQual','FullBath','GarageFinish','TotRmsAbvGrd','YearBuilt','YearRemodAdd','MasVnrArea','Fireplaces',\n",
    "              'HeatingQC','GarageYrBlt','BsmtFinSF1','Foundation','LotFrontage','WoodDeckSF','2ndFlrSF','OpenPorchSF','GarageType'\n",
    "             ]]"
   ]
  },
  {
   "cell_type": "code",
   "execution_count": 48,
   "id": "3bd86289",
   "metadata": {},
   "outputs": [],
   "source": [
    "new_test=pd.read_csv(\"C://Users/Satyam Meena/Desktop/Data Science/Data/House Price Prediction/test (1).csv\")\n",
    "Id=new_test['Id']"
   ]
  },
  {
   "cell_type": "code",
   "execution_count": 24,
   "id": "2c9676a6",
   "metadata": {},
   "outputs": [],
   "source": [
    "#Importing Libraries required for prediction\n",
    "from sklearn.model_selection import train_test_split\n",
    "from sklearn.linear_model import LinearRegression\n",
    "from sklearn.neighbors import KNeighborsRegressor\n",
    "from sklearn.ensemble import RandomForestRegressor\n",
    "from sklearn.tree import DecisionTreeRegressor\n",
    "from sklearn.metrics import r2_score"
   ]
  },
  {
   "cell_type": "code",
   "execution_count": 25,
   "id": "84b86a26",
   "metadata": {},
   "outputs": [
    {
     "name": "stdout",
     "output_type": "stream",
     "text": [
      "r2score is : 0.7169297881053516 random_state is : 0\n",
      "r2score is : 0.8461261055292776 random_state is : 1\n",
      "r2score is : 0.8510066814356922 random_state is : 4\n",
      "r2score is : 0.8562911947788019 random_state is : 40\n",
      "r2score is : 0.861585243747589 random_state is : 45\n",
      "r2score is : 0.8663158864224535 random_state is : 80\n"
     ]
    }
   ],
   "source": [
    "#Finding Best Random State\n",
    "max_score=0\n",
    "random_state=0\n",
    "for i in range(0,100):\n",
    "    X_train,X_test,Y_train,Y_test=train_test_split(new_x,y,random_state=i,test_size=0.3)\n",
    "    LR=LinearRegression()\n",
    "    LR.fit(X_train,Y_train)\n",
    "    pred=LR.predict(X_test)\n",
    "    r2score=r2_score(Y_test,pred)\n",
    "    if max_score<r2score:\n",
    "        max_score=r2score\n",
    "        random_state=i\n",
    "        print('r2score is :',max_score,'random_state is :',random_state)"
   ]
  },
  {
   "cell_type": "code",
   "execution_count": 26,
   "id": "bc865de6",
   "metadata": {},
   "outputs": [],
   "source": [
    "#Our model gives best accuracy of 85% on random state 25.\n",
    "\n",
    "#Train Test Split\n",
    "X_train,X_test,Y_train,Y_test=train_test_split(new_x,y,random_state=80,test_size=0.3)"
   ]
  },
  {
   "cell_type": "code",
   "execution_count": 27,
   "id": "dd116af9",
   "metadata": {},
   "outputs": [
    {
     "name": "stdout",
     "output_type": "stream",
     "text": [
      "0.8663158864224535\n"
     ]
    }
   ],
   "source": [
    "#ML Alogrithms\n",
    "#Linear Regression\n",
    "lr=LinearRegression()\n",
    "lr.fit(X_train,Y_train)\n",
    "predlr=lr.predict(X_test)\n",
    "print(r2_score(Y_test,predlr))"
   ]
  },
  {
   "cell_type": "code",
   "execution_count": 28,
   "id": "68acda7d",
   "metadata": {},
   "outputs": [
    {
     "name": "stdout",
     "output_type": "stream",
     "text": [
      "0.7243559473723136\n"
     ]
    }
   ],
   "source": [
    "#Decision Tree Regression\n",
    "dtr=DecisionTreeRegressor()\n",
    "dtr.fit(X_train,Y_train)\n",
    "preddtr=dtr.predict(X_test)\n",
    "print(r2_score(Y_test,preddtr))"
   ]
  },
  {
   "cell_type": "code",
   "execution_count": 29,
   "id": "8612ce1b",
   "metadata": {},
   "outputs": [
    {
     "name": "stdout",
     "output_type": "stream",
     "text": [
      "0.8883955864193949\n"
     ]
    }
   ],
   "source": [
    "#Random Forest Regression\n",
    "rfr=RandomForestRegressor()\n",
    "rfr.fit(X_train,Y_train)\n",
    "predrfr=rfr.predict(X_test)\n",
    "print(r2_score(Y_test,predrfr))"
   ]
  },
  {
   "cell_type": "code",
   "execution_count": 30,
   "id": "40c13fc8",
   "metadata": {},
   "outputs": [
    {
     "name": "stdout",
     "output_type": "stream",
     "text": [
      "0.7411545953310259\n"
     ]
    }
   ],
   "source": [
    "#KNeighborsRegression\n",
    "knn=KNeighborsRegressor()\n",
    "knn.fit(X_train,Y_train)\n",
    "predknn=knn.predict(X_test)\n",
    "print(r2_score(Y_test,predknn))"
   ]
  },
  {
   "cell_type": "markdown",
   "id": "e7bcd577",
   "metadata": {},
   "source": [
    "# Cross Validation Score"
   ]
  },
  {
   "cell_type": "code",
   "execution_count": 35,
   "id": "f68fc1ea",
   "metadata": {},
   "outputs": [
    {
     "name": "stdout",
     "output_type": "stream",
     "text": [
      "Cross Validation Score : 0.7882134437666629\n"
     ]
    }
   ],
   "source": [
    "#Linear Regression\n",
    "from sklearn.model_selection import cross_val_score\n",
    "scr1=cross_val_score(lr,new_x,y,cv=5)\n",
    "print('Cross Validation Score :', scr1.mean())"
   ]
  },
  {
   "cell_type": "code",
   "execution_count": 36,
   "id": "3138ceb3",
   "metadata": {},
   "outputs": [
    {
     "name": "stdout",
     "output_type": "stream",
     "text": [
      "Cross Validation Score : 0.7483408859997219\n"
     ]
    }
   ],
   "source": [
    "#Decision Tree regression\n",
    "scr2=cross_val_score(dtr,new_x,y,cv=5)\n",
    "print('Cross Validation Score :', scr2.mean())"
   ]
  },
  {
   "cell_type": "code",
   "execution_count": 37,
   "id": "ec248439",
   "metadata": {},
   "outputs": [
    {
     "name": "stdout",
     "output_type": "stream",
     "text": [
      "Cross Validation Score : 0.8518261604667403\n"
     ]
    }
   ],
   "source": [
    "#Random Forest Regression\n",
    "scr3=cross_val_score(rfr,new_x,y,cv=5)\n",
    "print('Cross Validation Score :', scr3.mean())"
   ]
  },
  {
   "cell_type": "code",
   "execution_count": 38,
   "id": "9ab68ae9",
   "metadata": {},
   "outputs": [
    {
     "name": "stdout",
     "output_type": "stream",
     "text": [
      "Cross Validation Score : 0.7232510704987826\n"
     ]
    }
   ],
   "source": [
    "#KNeighborsRegression\n",
    "scr4=cross_val_score(knn,new_x,y,cv=5)\n",
    "print('Cross Validation Score :', scr4.mean())"
   ]
  },
  {
   "cell_type": "raw",
   "id": "4539db88",
   "metadata": {},
   "source": [
    "Difference between Accuracy Score and Cross Validation Score is minimum for Random Forest Regression. So, we proceed with Random Forest Regression model only."
   ]
  },
  {
   "cell_type": "markdown",
   "id": "91ff9b04",
   "metadata": {},
   "source": [
    "# Hyper Parameter Tuning"
   ]
  },
  {
   "cell_type": "code",
   "execution_count": 40,
   "id": "0f6b1a15",
   "metadata": {},
   "outputs": [
    {
     "data": {
      "text/plain": [
       "{'bootstrap': True,\n",
       " 'max_depth': 100,\n",
       " 'max_features': 3,\n",
       " 'min_samples_leaf': 3,\n",
       " 'min_samples_split': 8,\n",
       " 'n_estimators': 200}"
      ]
     },
     "execution_count": 40,
     "metadata": {},
     "output_type": "execute_result"
    }
   ],
   "source": [
    "#Grid SearchCV\n",
    "from sklearn.model_selection import GridSearchCV\n",
    "# Create the parameter grid based on the results of random search \n",
    "param_grid = {\n",
    "    'bootstrap': [True],\n",
    "    'max_depth': [80, 90, 100, 110],\n",
    "    'max_features': [2, 3],\n",
    "    'min_samples_leaf': [3, 4, 5],\n",
    "    'min_samples_split': [8, 10, 12],\n",
    "    'n_estimators': [100, 200, 300,1000]\n",
    "}\n",
    "gcv=GridSearchCV(rfr,param_grid,cv=5)\n",
    "gcv.fit(X_train,Y_train)\n",
    "gcv.best_params_"
   ]
  },
  {
   "cell_type": "code",
   "execution_count": 41,
   "id": "0bc32e92",
   "metadata": {},
   "outputs": [
    {
     "data": {
      "text/plain": [
       "0.8910665937034428"
      ]
     },
     "execution_count": 41,
     "metadata": {},
     "output_type": "execute_result"
    }
   ],
   "source": [
    "#Predicting values from Grid SearchCV\n",
    "predgcv=gcv.best_estimator_.predict(X_test)\n",
    "r2_score(Y_test,predgcv)"
   ]
  },
  {
   "cell_type": "code",
   "execution_count": 50,
   "id": "943fbc51",
   "metadata": {},
   "outputs": [
    {
     "data": {
      "text/plain": [
       "(1459,)"
      ]
     },
     "execution_count": 50,
     "metadata": {},
     "output_type": "execute_result"
    }
   ],
   "source": [
    "y_pred_test=gcv.best_estimator_.predict(test)\n",
    "y_pred_test.shape"
   ]
  },
  {
   "cell_type": "code",
   "execution_count": 42,
   "id": "5a36c80b",
   "metadata": {},
   "outputs": [
    {
     "data": {
      "image/png": "[encoded data removed]",
      "text/plain": [
       "<Figure size 1584x864 with 1 Axes>"
      ]
     },
     "metadata": {
      "needs_background": "light"
     },
     "output_type": "display_data"
    }
   ],
   "source": [
    "#Plot of Y_test vs Predicted Values\n",
    "plt.figure(figsize=[22,12])\n",
    "plt.scatter(Y_test,predgcv)\n",
    "plt.xlabel('Y_test')\n",
    "plt.ylabel('predgcv')\n",
    "plt.title('Plot of Y_test and Predicted Values')\n",
    "plt.show()"
   ]
  },
  {
   "cell_type": "code",
   "execution_count": null,
   "id": "facb1391",
   "metadata": {},
   "outputs": [],
   "source": [
    "#Plot of Predicted values\n",
    "plt.figure(figsize=[22,12])\n",
    "plt.plot(predgcv)\n",
    "plt.title('Graph of Predicted SalePrice')"
   ]
  },
  {
   "cell_type": "code",
   "execution_count": 43,
   "id": "0915ab8c",
   "metadata": {},
   "outputs": [
    {
     "data": {
      "text/plain": [
       "<AxesSubplot:xlabel='SalePrice', ylabel='Density'>"
      ]
     },
     "execution_count": 43,
     "metadata": {},
     "output_type": "execute_result"
    },
    {
     "data": {
      "image/png": "[encoded data removed]",
      "text/plain": [
       "<Figure size 432x288 with 1 Axes>"
      ]
     },
     "metadata": {
      "needs_background": "light"
     },
     "output_type": "display_data"
    }
   ],
   "source": [
    "#Plot of Errors\n",
    "sns.distplot(Y_test-predgcv)"
   ]
  },
  {
   "cell_type": "code",
   "execution_count": 52,
   "id": "75c0426b",
   "metadata": {},
   "outputs": [],
   "source": [
    "my_submission = pd.DataFrame({'Id': Id, 'SalePrice':y_pred_test})\n",
    "# you could use any filename. We choose submission here\n",
    "my_submission.to_csv('submissions.csv', index=False)"
   ]
  },
  {
   "cell_type": "code",
   "execution_count": null,
   "id": "ec5c49df",
   "metadata": {},
   "outputs": [],
   "source": []
  }
 ],
 "metadata": {
  "kernelspec": {
   "display_name": "Python 3 (ipykernel)",
   "language": "python",
   "name": "python3"
  },
  "language_info": {
   "codemirror_mode": {
    "name": "ipython",
    "version": 3
   },
   "file_extension": ".py",
   "mimetype": "text/x-python",
   "name": "python",
   "nbconvert_exporter": "python",
   "pygments_lexer": "ipython3",
   "version": "3.9.7"
  }
 },
 "nbformat": 4,
 "nbformat_minor": 5
}
